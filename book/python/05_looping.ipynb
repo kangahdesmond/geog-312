{
 "cells": [
  {
   "cell_type": "markdown",
   "id": "0",
   "metadata": {},
   "source": [
    "# Looping and Control Statements\n",
    "\n",
    "[![Open In Colab](https://colab.research.google.com/assets/colab-badge.svg)](https://colab.research.google.com/github/giswqs/geog-312/blob/main/book/python/05_looping.ipynb)\n",
    "\n",
    "## Overview\n",
    "\n",
    "This lecture introduces looping and control statements in Python, focusing on their applications in geospatial programming. Loops and control statements are essential tools for automating repetitive tasks, making decisions based on data conditions, and efficiently processing large geospatial datasets. By mastering these concepts, you will be able to handle complex geospatial analysis tasks with greater efficiency and precision.\n",
    "\n",
    "## Learning Objectives\n",
    "\n",
    "By the end of this lecture, you should be able to:\n",
    "\n",
    "- Understand and implement `for` loops to iterate over sequences such as lists and tuples.\n",
    "- Use `while` loops to perform tasks until a specific condition is met.\n",
    "- Apply control statements (`if`, `elif`, `else`) to execute different blocks of code based on data conditions.\n",
    "- Combine loops and control statements to filter, process, and analyze geospatial data.\n",
    "- Develop the ability to automate repetitive geospatial tasks, making your data processing workflows more efficient.\n",
    "\n",
    "## For Loops\n",
    "\n",
    "For loops allow you to iterate over a sequence (such as a list, tuple, or string) and execute a block of code for each item in the sequence. This is particularly useful in geospatial programming when you need to process multiple features or coordinates."
   ]
  },
  {
   "cell_type": "markdown",
   "id": "a9750f61",
   "metadata": {},
   "source": [
    "For loop is usually used when you know the number of items in a list"
   ]
  },
  {
   "cell_type": "code",
   "execution_count": 1,
   "id": "1",
   "metadata": {},
   "outputs": [
    {
     "name": "stdout",
     "output_type": "stream",
     "text": [
      "Latitude: 35.6895, Longitude: 139.6917\n",
      "Latitude: 34.0522, Longitude: -118.2437\n",
      "Latitude: 51.5074, Longitude: -0.1278\n"
     ]
    }
   ],
   "source": [
    "coordinates = [\n",
    "    (35.6895, 139.6917),\n",
    "    (34.0522, -118.2437),\n",
    "    (51.5074, -0.1278),\n",
    "]  # List of tuples representing coordinates\n",
    "\n",
    "for lat, lon in coordinates:\n",
    "    print(f\"Latitude: {lat}, Longitude: {lon}\")"
   ]
  },
  {
   "cell_type": "code",
   "execution_count": null,
   "id": "45c69449",
   "metadata": {},
   "outputs": [],
   "source": [
    "coordinates = [\n",
    "    (35.6895, 139.6917),\n",
    "    (34.0522, -118.2437),\n",
    "    (51.5074, -0.1278),\n",
    "]  # List of tuples representing coordinates\n"
   ]
  },
  {
   "cell_type": "code",
   "execution_count": 10,
   "id": "ff3a2296",
   "metadata": {},
   "outputs": [
    {
     "name": "stdout",
     "output_type": "stream",
     "text": [
      "Start\n",
      "Latitude: 35.6895, Longitude: 139.6917\n",
      "This is in the eastern hemisphere\n",
      "End\n"
     ]
    }
   ],
   "source": [
    "print(\"Start\")\n",
    "for lat, lon in coordinates:\n",
    "    print(f\"Latitude: {lat}, Longitude: {lon}\")\n",
    "    if lon > 0:\n",
    "        print(\"This is in the eastern hemisphere\")\n",
    "        break\n",
    "print(\"End\")"
   ]
  },
  {
   "cell_type": "code",
   "execution_count": 11,
   "id": "07f9c17c",
   "metadata": {},
   "outputs": [
    {
     "name": "stdout",
     "output_type": "stream",
     "text": [
      "Start\n",
      "processing 1/3\n",
      "Latitude: 35.6895, Longitude: 139.6917\n",
      "This is in the eastern hemisphere\n",
      "End\n"
     ]
    }
   ],
   "source": [
    "print(\"Start\")\n",
    "index = 1\n",
    "for lat, lon in coordinates:\n",
    "    print(f\"processing {index}/{len(coordinates)}\")\n",
    "    print(f\"Latitude: {lat}, Longitude: {lon}\")\n",
    "    index += 1\n",
    "    if lon > 0:\n",
    "        print(\"This is in the eastern hemisphere\")\n",
    "        break\n",
    "print(\"End\")"
   ]
  },
  {
   "cell_type": "code",
   "execution_count": 12,
   "id": "0842f6f5",
   "metadata": {},
   "outputs": [
    {
     "name": "stdout",
     "output_type": "stream",
     "text": [
      "(35.6895, 139.6917)\n",
      "(34.0522, -118.2437)\n",
      "(51.5074, -0.1278)\n"
     ]
    }
   ],
   "source": [
    "for coordinate in coordinates:\n",
    "    print(coordinate)"
   ]
  },
  {
   "cell_type": "code",
   "execution_count": 13,
   "id": "32a30562",
   "metadata": {},
   "outputs": [
    {
     "name": "stdout",
     "output_type": "stream",
     "text": [
      "latitude: 35.6895,longitude:139.6917\n",
      "latitude: 34.0522,longitude:-118.2437\n",
      "latitude: 51.5074,longitude:-0.1278\n"
     ]
    }
   ],
   "source": [
    "for coordinate in coordinates:\n",
    "    print(f\"latitude: {coordinate[0]},longitude:{coordinate[1]}\")"
   ]
  },
  {
   "cell_type": "markdown",
   "id": "2",
   "metadata": {},
   "source": [
    "Assuming you have a function to calculate distances, you can use a loop to compute distances from a reference point."
   ]
  },
  {
   "cell_type": "code",
   "execution_count": 16,
   "id": "3",
   "metadata": {},
   "outputs": [
    {
     "name": "stdout",
     "output_type": "stream",
     "text": [
      "Distance from (0, 0) to (35.6895, 139.6917): 144.178748\n",
      "Distance from (0, 0) to (34.0522, -118.2437): 123.049278\n",
      "Distance from (0, 0) to (51.5074, -0.1278): 51.507559\n"
     ]
    }
   ],
   "source": [
    "def calculate_distance(lat1, lon1, lat2, lon2):\n",
    "    # Placeholder for distance calculation logic\n",
    "    return ((lat2 - lat1) ** 2 + (lon2 - lon1) ** 2) ** 0.5\n",
    "\n",
    "\n",
    "reference_point = (0, 0)  # Reference point (latitude, longitude)\n",
    "\n",
    "for lat, lon in coordinates:\n",
    "    distance = calculate_distance(reference_point[0], reference_point[1], lat, lon)\n",
    "    print(f\"Distance from {reference_point} to ({lat}, {lon}): {distance:.6f}\")"
   ]
  },
  {
   "cell_type": "markdown",
   "id": "4",
   "metadata": {},
   "source": [
    "## While Loops\n",
    "\n",
    "While loops continue to execute a block of code as long as a specified condition is true. They are useful when the number of iterations is not known beforehand, such as when processing data until a certain condition is met."
   ]
  },
  {
   "cell_type": "code",
   "execution_count": 23,
   "id": "0c6724fe",
   "metadata": {},
   "outputs": [
    {
     "name": "stdout",
     "output_type": "stream",
     "text": [
      "Los Angeles\n",
      "10000\n",
      "New York\n"
     ]
    }
   ],
   "source": [
    "city = {\n",
    "    \"name\": \"Los Angeles\",\n",
    "    \"population\": 10000,\n",
    "    \"state\": \"New York\",\n",
    "}\n",
    "\n",
    "for item in city.values():\n",
    "    print(item)"
   ]
  },
  {
   "cell_type": "code",
   "execution_count": 25,
   "id": "5",
   "metadata": {},
   "outputs": [
    {
     "name": "stdout",
     "output_type": "stream",
     "text": [
      "Processing coordinate: (35.6895, 139.6917)\n",
      "Processing coordinate: (34.0522, -118.2437)\n",
      "Processing coordinate: (51.5074, -0.1278)\n"
     ]
    }
   ],
   "source": [
    "counter = 0\n",
    "while counter < len(coordinates):\n",
    "    lat, lon = coordinates[counter]\n",
    "    print(f\"Processing coordinate: ({lat}, {lon})\")\n",
    "    counter += 1"
   ]
  },
  {
   "cell_type": "code",
   "execution_count": 33,
   "id": "2ff8f284",
   "metadata": {},
   "outputs": [
    {
     "name": "stdout",
     "output_type": "stream",
     "text": [
      "2\n",
      "4\n",
      "6\n",
      "8\n",
      "10\n",
      "12\n",
      "14\n",
      "16\n",
      "18\n",
      "20\n"
     ]
    }
   ],
   "source": [
    "counter = 0\n",
    "while True:\n",
    "    \n",
    "    counter += 1\n",
    "    if counter % 2 == 0:\n",
    "        print(counter)\n",
    "    if counter > 20:\n",
    "        break\n"
   ]
  },
  {
   "cell_type": "markdown",
   "id": "6",
   "metadata": {},
   "source": [
    "## Control Statements: if, elif, else\n",
    "\n",
    "Control statements allow you to execute different blocks of code based on certain conditions. In geospatial programming, this is useful for handling different types of data or conditions."
   ]
  },
  {
   "cell_type": "code",
   "execution_count": 34,
   "id": "7",
   "metadata": {},
   "outputs": [
    {
     "name": "stdout",
     "output_type": "stream",
     "text": [
      "35.6895 is in the Northern Hemisphere\n",
      "34.0522 is in the Northern Hemisphere\n",
      "51.5074 is in the Northern Hemisphere\n"
     ]
    }
   ],
   "source": [
    "for lat, lon in coordinates:\n",
    "    if lat > 0:\n",
    "        print(f\"{lat} is in the Northern Hemisphere\")\n",
    "    elif lat < 0:\n",
    "        print(f\"{lat} is in the Southern Hemisphere\")\n",
    "    else:\n",
    "        print(f\"{lat} is near the equator\")"
   ]
  },
  {
   "cell_type": "markdown",
   "id": "8",
   "metadata": {},
   "source": [
    "You can further categorize based on longitude:"
   ]
  },
  {
   "cell_type": "code",
   "execution_count": 35,
   "id": "9",
   "metadata": {},
   "outputs": [
    {
     "name": "stdout",
     "output_type": "stream",
     "text": [
      "The coordinate (35.6895, 139.6917) is in the Northern Hemisphere and Eastern Hemisphere.\n",
      "The coordinate (34.0522, -118.2437) is in the Northern Hemisphere and Western Hemisphere.\n",
      "The coordinate (51.5074, -0.1278) is in the Northern Hemisphere and Western Hemisphere.\n"
     ]
    }
   ],
   "source": [
    "for lat, lon in coordinates:\n",
    "    if lat > 0:\n",
    "        hemisphere = \"Northern\"\n",
    "    else:\n",
    "        hemisphere = \"Southern\"\n",
    "\n",
    "    if lon > 0:\n",
    "        direction = \"Eastern\"\n",
    "    else:\n",
    "        direction = \"Western\"\n",
    "\n",
    "    print(\n",
    "        f\"The coordinate ({lat}, {lon}) is in the {hemisphere} Hemisphere and {direction} Hemisphere.\"\n",
    "    )"
   ]
  },
  {
   "cell_type": "markdown",
   "id": "10",
   "metadata": {},
   "source": [
    "## Combining Loops and Control Statements\n",
    "\n",
    "You can combine loops and control statements to perform more complex operations, such as filtering data or applying conditions during iteration."
   ]
  },
  {
   "cell_type": "code",
   "execution_count": 36,
   "id": "11",
   "metadata": {},
   "outputs": [
    {
     "name": "stdout",
     "output_type": "stream",
     "text": [
      "Filtered coordinates (only with positive longitude): [(35.6895, 139.6917)]\n"
     ]
    }
   ],
   "source": [
    "filtered_coordinates = []\n",
    "for lat, lon in coordinates:\n",
    "    if lon > 0:\n",
    "        filtered_coordinates.append((lat, lon))\n",
    "print(f\"Filtered coordinates (only with positive longitude): {filtered_coordinates}\")"
   ]
  },
  {
   "cell_type": "code",
   "execution_count": null,
   "id": "12",
   "metadata": {},
   "outputs": [],
   "source": [
    "southern_count = 0\n",
    "for lat, lon in coordinates:\n",
    "    if lat < 0:\n",
    "        southern_count += 1\n",
    "print(f\"Number of coordinates in the Southern Hemisphere: {southern_count}\")"
   ]
  },
  {
   "cell_type": "code",
   "execution_count": 41,
   "id": "0852469b",
   "metadata": {},
   "outputs": [],
   "source": [
    "grade  = 34"
   ]
  },
  {
   "cell_type": "code",
   "execution_count": 42,
   "id": "1339ab28",
   "metadata": {},
   "outputs": [
    {
     "name": "stdout",
     "output_type": "stream",
     "text": [
      "You had a grade of 34 and it is a failing grade\n"
     ]
    }
   ],
   "source": [
    "if grade >= 91:\n",
    "    print(\"A+\")\n",
    "elif grade >= 81:\n",
    "    print(\"A\")\n",
    "else:\n",
    "    print(f\"You had a grade of {grade} and it is a failing grade\")\n"
   ]
  },
  {
   "cell_type": "markdown",
   "id": "13",
   "metadata": {},
   "source": [
    "## Exercises\n",
    "\n",
    "1. Create a list of cities with their coordinates. Write a for loop to print out only the cities that are in the Northern Hemisphere.\n",
    "2. Write a while loop that continues to print the coordinates in a list until a coordinate with a latitude less than 0 is found.\n",
    "3. Create a for loop that iterates through a list of coordinates and prints whether each coordinate is in the Eastern or Western Hemisphere based on the longitude.\n",
    "4. Combine a for loop and if statements to count how many coordinates in a list are located in the Southern Hemisphere.\n",
    "5. Write a program that generates random coordinates (latitude and longitude) and prints them until a coordinate with both latitude and longitude greater than 50 is generated."
   ]
  },
  {
   "cell_type": "code",
   "execution_count": null,
   "id": "14",
   "metadata": {},
   "outputs": [],
   "source": []
  },
  {
   "cell_type": "markdown",
   "id": "15",
   "metadata": {},
   "source": [
    "## Summary\n",
    "\n",
    "Loops and control statements are fundamental tools in geospatial programming. They allow you to process and analyze geographic data efficiently by automating repetitive tasks and applying logic based on data conditions. Practice these concepts by applying them to your geospatial datasets and analyses."
   ]
  }
 ],
 "metadata": {
  "kernelspec": {
   "display_name": "Python 3",
   "language": "python",
   "name": "python3"
  },
  "language_info": {
   "codemirror_mode": {
    "name": "ipython",
    "version": 3
   },
   "file_extension": ".py",
   "mimetype": "text/x-python",
   "name": "python",
   "nbconvert_exporter": "python",
   "pygments_lexer": "ipython3",
   "version": "3.10.14"
  }
 },
 "nbformat": 4,
 "nbformat_minor": 5
}
