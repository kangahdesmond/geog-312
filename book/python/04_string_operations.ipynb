{
 "cells": [
  {
   "cell_type": "markdown",
   "id": "0",
   "metadata": {},
   "source": [
    "# String Operations\n",
    "\n",
    "[![Open In Colab](https://colab.research.google.com/assets/colab-badge.svg)](https://colab.research.google.com/github/giswqs/geog-312/blob/main/book/python/04_string_operations.ipynb)\n",
    "\n",
    "## Overview\n",
    "\n",
    "This lecture will cover various string operations in Python, with a focus on their application in geospatial contexts. Strings are fundamental in handling textual data, such as names of geographic locations, coordinates, and data extracted from text files. Mastering string operations allows you to effectively manipulate and analyze geographic information, which is essential for tasks like data cleaning, formatting, parsing, and even geocoding.\n",
    "\n",
    "## Learning Objectives\n",
    "\n",
    "By the end of this lecture, you should be able to:\n",
    "\n",
    "- Create and manipulate strings in Python, including concatenation and repetition.\n",
    "- Apply string methods such as `lower()`, `upper()`, `strip()`, `replace()`, and `split()` to process geospatial data.\n",
    "- Format strings using the `format()` method and f-strings to include variable data within strings.\n",
    "- Parse and extract specific information from strings, such as coordinates or location names.\n",
    "- Utilize string operations in practical geospatial tasks, enhancing your ability to work with and manage geographic data."
   ]
  },
  {
   "cell_type": "markdown",
   "id": "1",
   "metadata": {},
   "source": [
    "## Creating and Manipulating Strings\n",
    "\n",
    "Strings in Python are sequences of characters. You can create a string by enclosing characters in single or double quotes."
   ]
  },
  {
   "cell_type": "code",
   "execution_count": 1,
   "id": "2",
   "metadata": {},
   "outputs": [],
   "source": [
    "location_name = \"Mount Everest\"  # A string representing the name of a location"
   ]
  },
  {
   "cell_type": "markdown",
   "id": "3",
   "metadata": {},
   "source": [
    "You can concatenate (join) strings using the `+` operator:"
   ]
  },
  {
   "cell_type": "code",
   "execution_count": 3,
   "id": "4",
   "metadata": {},
   "outputs": [
    {
     "name": "stdout",
     "output_type": "stream",
     "text": [
      "Mount Everest, Nepal, 1000\n"
     ]
    }
   ],
   "source": [
    "location_name_full = location_name + \", Nepal\" + \", 1000\"\n",
    "print(location_name_full)"
   ]
  },
  {
   "cell_type": "code",
   "execution_count": 6,
   "id": "8c262064",
   "metadata": {},
   "outputs": [
    {
     "name": "stdout",
     "output_type": "stream",
     "text": [
      "Mount Everest, Nepal,1000\n"
     ]
    }
   ],
   "source": [
    "location_name_full = location_name + \", Nepal\" + \",\" +  str(1000)\n",
    "print(location_name_full)"
   ]
  },
  {
   "cell_type": "markdown",
   "id": "5",
   "metadata": {},
   "source": [
    "You can also repeat strings using the `*` operator:"
   ]
  },
  {
   "cell_type": "code",
   "execution_count": 7,
   "id": "6",
   "metadata": {},
   "outputs": [
    {
     "name": "stdout",
     "output_type": "stream",
     "text": [
      "----------\n"
     ]
    }
   ],
   "source": [
    "separator = \"-\" * 10\n",
    "print(separator)"
   ]
  },
  {
   "cell_type": "code",
   "execution_count": 9,
   "id": "485b96f5",
   "metadata": {},
   "outputs": [
    {
     "name": "stdout",
     "output_type": "stream",
     "text": [
      "city, city, city, city, city, city, city, city, city, city, \n"
     ]
    }
   ],
   "source": [
    "separator = \"city, \" * 10\n",
    "print(separator)"
   ]
  },
  {
   "cell_type": "markdown",
   "id": "7",
   "metadata": {},
   "source": [
    "Let's construct a basic SQL query string to select data from a geospatial database:"
   ]
  },
  {
   "cell_type": "code",
   "execution_count": 10,
   "id": "8",
   "metadata": {},
   "outputs": [
    {
     "name": "stdout",
     "output_type": "stream",
     "text": [
      "SELECT * FROM locations WHERE country = 'Nepal';\n"
     ]
    }
   ],
   "source": [
    "table_name = \"locations\"\n",
    "condition = \"country = 'Nepal'\"\n",
    "sql_query = f\"SELECT * FROM {table_name} WHERE {condition};\"\n",
    "print(sql_query)"
   ]
  },
  {
   "cell_type": "markdown",
   "id": "9",
   "metadata": {},
   "source": [
    "In more complex scenarios, you might want to dynamically build queries based on user input or multiple conditions."
   ]
  },
  {
   "cell_type": "markdown",
   "id": "10",
   "metadata": {},
   "source": [
    "## String Methods for Geospatial Data\n",
    "\n",
    "Python provides various built-in methods to manipulate strings. Some commonly used methods include:\n",
    "\n",
    "- `lower()`, `upper()`: Convert strings to lowercase or uppercase.\n",
    "- `strip()`: Remove leading and trailing whitespace.\n",
    "- `lstrip()`, `rstrip()`: Remove leading or trailing whitespace.\n",
    "- `replace()`: Replace a substring with another substring.\n",
    "- `split()`: Split a string into a list of substrings based on a delimiter.\n",
    "- `join()`: Join a list of strings into a single string with a specified delimiter."
   ]
  },
  {
   "cell_type": "code",
   "execution_count": 11,
   "id": "11",
   "metadata": {},
   "outputs": [
    {
     "name": "stdout",
     "output_type": "stream",
     "text": [
      "MOUNT EVEREST\n"
     ]
    }
   ],
   "source": [
    "location_name_upper = location_name.upper()\n",
    "print(location_name_upper)  # Convert to uppercase"
   ]
  },
  {
   "cell_type": "code",
   "execution_count": 18,
   "id": "ba5b6bdd",
   "metadata": {},
   "outputs": [
    {
     "data": {
      "text/plain": [
       "False"
      ]
     },
     "execution_count": 18,
     "metadata": {},
     "output_type": "execute_result"
    }
   ],
   "source": [
    "location_name.islower() # Check if all characters are lowercase"
   ]
  },
  {
   "cell_type": "code",
   "execution_count": 19,
   "id": "12",
   "metadata": {},
   "outputs": [
    {
     "name": "stdout",
     "output_type": "stream",
     "text": [
      "Mount Everest\n"
     ]
    }
   ],
   "source": [
    "location_name_clean = location_name.strip()\n",
    "print(location_name_clean)  # Remove leading/trailing whitespace"
   ]
  },
  {
   "cell_type": "code",
   "execution_count": 22,
   "id": "041b55a5",
   "metadata": {},
   "outputs": [
    {
     "data": {
      "text/plain": [
       "'   Kangah    '"
      ]
     },
     "execution_count": 22,
     "metadata": {},
     "output_type": "execute_result"
    }
   ],
   "source": [
    "location_name = \"   Kangah    \"\n",
    "location_name"
   ]
  },
  {
   "cell_type": "code",
   "execution_count": 24,
   "id": "4ed8e45b",
   "metadata": {},
   "outputs": [
    {
     "data": {
      "text/plain": [
       "'Kangah'"
      ]
     },
     "execution_count": 24,
     "metadata": {},
     "output_type": "execute_result"
    }
   ],
   "source": [
    "location_name_clean = location_name.strip()\n",
    "location_name_clean"
   ]
  },
  {
   "cell_type": "code",
   "execution_count": 26,
   "id": "4d83474e",
   "metadata": {},
   "outputs": [
    {
     "data": {
      "text/plain": [
       "'   Kangah'"
      ]
     },
     "execution_count": 26,
     "metadata": {},
     "output_type": "execute_result"
    }
   ],
   "source": [
    "location_name = location_name.rstrip()   # Remove trailing whitespace\n",
    "location_name"
   ]
  },
  {
   "cell_type": "code",
   "execution_count": 32,
   "id": "42a64583",
   "metadata": {},
   "outputs": [
    {
     "data": {
      "text/plain": [
       "'Kangah'"
      ]
     },
     "execution_count": 32,
     "metadata": {},
     "output_type": "execute_result"
    }
   ],
   "source": [
    "location_name = location_name.lstrip()   # Remove leading whitespace\n",
    "location_name"
   ]
  },
  {
   "cell_type": "code",
   "execution_count": 35,
   "id": "13",
   "metadata": {},
   "outputs": [
    {
     "name": "stdout",
     "output_type": "stream",
     "text": [
      "Kangah\n"
     ]
    }
   ],
   "source": [
    "location_name_replaced = location_name.replace(\"Everest\", \"K2\")\n",
    "print(location_name_replaced)  # Replace 'Everest' with 'K2'"
   ]
  },
  {
   "cell_type": "code",
   "execution_count": 36,
   "id": "06a95078",
   "metadata": {},
   "outputs": [
    {
     "name": "stdout",
     "output_type": "stream",
     "text": [
      "Kangah\n"
     ]
    }
   ],
   "source": [
    "location_name_replaced = location_name.replace(\"Everest\", \"K2\")\n",
    "print(location_name_replaced)  # Replace"
   ]
  },
  {
   "cell_type": "code",
   "execution_count": 37,
   "id": "14",
   "metadata": {},
   "outputs": [
    {
     "name": "stdout",
     "output_type": "stream",
     "text": [
      "['Mount Everest', 'Nepal,1000']\n"
     ]
    }
   ],
   "source": [
    "location_parts = location_name_full.split(\", \")\n",
    "print(location_parts)  # Split the string into a list"
   ]
  },
  {
   "cell_type": "code",
   "execution_count": 39,
   "id": "8b8b0366",
   "metadata": {},
   "outputs": [],
   "source": [
    "Location = \"Ghana, Nigeria, India, China, USA\""
   ]
  },
  {
   "cell_type": "code",
   "execution_count": 42,
   "id": "dfdd3edc",
   "metadata": {},
   "outputs": [
    {
     "data": {
      "text/plain": [
       "['Ghana,', 'Nigeria,', 'India,', 'China,', 'USA']"
      ]
     },
     "execution_count": 42,
     "metadata": {},
     "output_type": "execute_result"
    }
   ],
   "source": [
    "Location.split()   # Split the string into a list using comma as the separator"
   ]
  },
  {
   "cell_type": "markdown",
   "id": "15",
   "metadata": {},
   "source": [
    "Suppose you have a list of country names with inconsistent formatting, and you want to normalize them:"
   ]
  },
  {
   "cell_type": "code",
   "execution_count": 38,
   "id": "16",
   "metadata": {},
   "outputs": [
    {
     "name": "stdout",
     "output_type": "stream",
     "text": [
      "['Nepal', 'India', 'China', 'Bhutan']\n"
     ]
    }
   ],
   "source": [
    "countries = [\" nepal\", \"INDIA \", \"china \", \"Bhutan\"]\n",
    "normalized_countries = [country.strip().title() for country in countries]\n",
    "print(normalized_countries)"
   ]
  },
  {
   "cell_type": "markdown",
   "id": "17",
   "metadata": {},
   "source": [
    "This operation removes any leading/trailing spaces and ensures consistent capitalization."
   ]
  },
  {
   "cell_type": "code",
   "execution_count": 53,
   "id": "c0c64f7d",
   "metadata": {},
   "outputs": [],
   "source": [
    "names = [\"Michael Donkh\", \"John arthur\", \"James Ankomah\", \"David Okyere\"]"
   ]
  },
  {
   "cell_type": "code",
   "execution_count": 54,
   "id": "1054e8cf",
   "metadata": {},
   "outputs": [
    {
     "data": {
      "text/plain": [
       "['Donkh', 'arthur', 'Ankomah', 'Okyere']"
      ]
     },
     "execution_count": 54,
     "metadata": {},
     "output_type": "execute_result"
    }
   ],
   "source": [
    "[name.split()[1] for name in names]\n"
   ]
  },
  {
   "cell_type": "markdown",
   "id": "18",
   "metadata": {},
   "source": [
    "## Formatting Strings\n",
    "\n",
    "String formatting is essential when preparing data for output or when you need to include variable values in strings. You can use the `format()` method or f-strings (in Python 3.6 and above) for string formatting."
   ]
  },
  {
   "cell_type": "code",
   "execution_count": 55,
   "id": "19",
   "metadata": {},
   "outputs": [
    {
     "name": "stdout",
     "output_type": "stream",
     "text": [
      "Coordinates: (27.9881, 86.925)\n"
     ]
    }
   ],
   "source": [
    "latitude = 27.9881\n",
    "longitude = 86.9250\n",
    "formatted_coordinates = \"Coordinates: ({}, {})\".format(latitude, longitude)\n",
    "print(formatted_coordinates)"
   ]
  },
  {
   "cell_type": "code",
   "execution_count": 56,
   "id": "20",
   "metadata": {},
   "outputs": [
    {
     "name": "stdout",
     "output_type": "stream",
     "text": [
      "Coordinates: (27.9881, 86.925)\n"
     ]
    }
   ],
   "source": [
    "formatted_coordinates_fstring = f\"Coordinates: ({latitude}, {longitude})\"\n",
    "print(formatted_coordinates_fstring)"
   ]
  },
  {
   "cell_type": "markdown",
   "id": "21",
   "metadata": {},
   "source": [
    "Well-Known Text (WKT) is a text markup language for representing vector geometry objects. Let's format a string to represent a POINT geometry:"
   ]
  },
  {
   "cell_type": "code",
   "execution_count": 57,
   "id": "22",
   "metadata": {},
   "outputs": [
    {
     "name": "stdout",
     "output_type": "stream",
     "text": [
      "POINT(86.925 27.9881)\n"
     ]
    }
   ],
   "source": [
    "wkt_point = f\"POINT({longitude} {latitude})\"\n",
    "print(wkt_point)"
   ]
  },
  {
   "cell_type": "markdown",
   "id": "23",
   "metadata": {},
   "source": [
    "## Parsing and Extracting Information from Strings\n",
    "\n",
    "Often, you will need to extract specific information from strings, especially when dealing with geographic data. For example, you might need to extract coordinates from a formatted string."
   ]
  },
  {
   "cell_type": "code",
   "execution_count": 58,
   "id": "24",
   "metadata": {},
   "outputs": [
    {
     "name": "stdout",
     "output_type": "stream",
     "text": [
      "Parsed coordinates: (27.9881, 86.925)\n"
     ]
    }
   ],
   "source": [
    "coordinate_string = \"27.9881N, 86.9250E\"\n",
    "lat_str, lon_str = coordinate_string.split(\", \")\n",
    "latitude = float(lat_str[:-1])  # Convert string to float and remove the 'N'\n",
    "longitude = float(lon_str[:-1])  # Convert string to float and remove the 'E'\n",
    "print(f\"Parsed coordinates: ({latitude}, {longitude})\")"
   ]
  },
  {
   "cell_type": "markdown",
   "id": "25",
   "metadata": {},
   "source": [
    "If you have a list of addresses in the format \"Street, City, Country\", you might want to parse and extract each component:"
   ]
  },
  {
   "cell_type": "code",
   "execution_count": 59,
   "id": "26",
   "metadata": {},
   "outputs": [
    {
     "name": "stdout",
     "output_type": "stream",
     "text": [
      "Street: 123 Everest Rd, City: Kathmandu, Country: Nepal\n"
     ]
    }
   ],
   "source": [
    "address = \"123 Everest Rd, Kathmandu, Nepal\"\n",
    "street, city, country = address.split(\", \")\n",
    "print(f\"Street: {street}, City: {city}, Country: {country}\")"
   ]
  },
  {
   "cell_type": "markdown",
   "id": "27",
   "metadata": {},
   "source": [
    "## Exercises\n",
    "\n",
    "1. Create a string representing the name of a city. Convert the string to lowercase and then to uppercase.\n",
    "2. Take a string with the format 'latitude, longitude' (e.g., '40.7128N, 74.0060W') and extract the numeric values of latitude and longitude.\n",
    "3. Create a formatted string that includes the name of a location and its coordinates. Use both the `format()` method and f-strings to achieve this.\n",
    "4. Replace a substring in the name of a place (e.g., change 'San Francisco' to 'San Diego') and print the result.\n",
    "5. Given a list of addresses in the format \"Street, City, Country\", write a function to parse and return a dictionary with keys `street`, `city`, and `country`.\n",
    "6. Write a function that converts a pair of latitude and longitude coordinates into a WKT `POINT` string."
   ]
  },
  {
   "cell_type": "markdown",
   "id": "adb43cfc",
   "metadata": {},
   "source": [
    "ANSWER"
   ]
  },
  {
   "cell_type": "markdown",
   "metadata": {},
   "source": [
    "**TASK 1**"
   ]
  },
  {
   "cell_type": "code",
   "execution_count": 61,
   "id": "28",
   "metadata": {},
   "outputs": [
    {
     "name": "stdout",
     "output_type": "stream",
     "text": [
      "Name_City_Uppper: NAMIBIA, WINDHOEK, Name_City_Lower: namibia, windhoek\n"
     ]
    }
   ],
   "source": [
    "Name_City = \"Namibia, Windhoek\"\n",
    "Name_City_Uppper = Name_City.upper()\n",
    "Name_City_Lower = Name_City.lower()\n",
    "\n",
    "print(f'Name_City_Uppper: {Name_City_Uppper}, Name_City_Lower: {Name_City_Lower}')"
   ]
  },
  {
   "cell_type": "markdown",
   "id": "70c51742",
   "metadata": {},
   "source": [
    "**Task 2**"
   ]
  },
  {
   "cell_type": "code",
   "execution_count": 73,
   "id": "74556c7c",
   "metadata": {},
   "outputs": [
    {
     "name": "stdout",
     "output_type": "stream",
     "text": [
      "Numeric_values: (27.9881, 86.925)\n"
     ]
    }
   ],
   "source": [
    "Coordinate = \"40.7128N\", \"74.0060E\"\n",
    "lat_str,long_str = coordinate_string.split(\", \")\n",
    "Numeric_values = float (lat_str[:-1]), float(long_str[:-1])\n",
    "print(f'Numeric_values: {Numeric_values}')"
   ]
  },
  {
   "cell_type": "markdown",
   "id": "5e16d02f",
   "metadata": {},
   "source": [
    "**Task3**"
   ]
  },
  {
   "cell_type": "code",
   "execution_count": 75,
   "id": "c1641731",
   "metadata": {},
   "outputs": [
    {
     "name": "stdout",
     "output_type": "stream",
     "text": [
      "Coordinates: (13.6854N, 104.1864E, Cambodia)\n"
     ]
    }
   ],
   "source": [
    "latitude_Gh = '13.6854N'\n",
    "longitude_Gh = '104.1864E'\n",
    "Country = 'Cambodia'\n",
    "formatted_coordinates = \"Coordinates: ({}, {}, {})\".format(latitude_Gh, longitude_Gh, Country)\n",
    "print(formatted_coordinates)"
   ]
  },
  {
   "cell_type": "code",
   "execution_count": 76,
   "id": "49690345",
   "metadata": {},
   "outputs": [
    {
     "name": "stdout",
     "output_type": "stream",
     "text": [
      "Coordinates: (13.6854N, 104.1864E, Cambodia)\n"
     ]
    }
   ],
   "source": [
    "formatted_coordinates_fstring = f\"Coordinates: ({latitude_Gh}, {longitude_Gh}, {Country})\"\n",
    "print(formatted_coordinates_fstring)"
   ]
  },
  {
   "cell_type": "markdown",
   "id": "2a95d222",
   "metadata": {},
   "source": [
    "**Task4**"
   ]
  },
  {
   "cell_type": "code",
   "execution_count": 79,
   "id": "fd2dc29e",
   "metadata": {},
   "outputs": [
    {
     "name": "stdout",
     "output_type": "stream",
     "text": [
      "San Diego, California, USA\n"
     ]
    }
   ],
   "source": [
    "Country_name = \"San Francisco, California, USA\"\n",
    "location_name_replaced = Country_name.replace(\"San Francisco\", \"San Diego\")\n",
    "Country_name\n",
    "print(location_name_replaced)"
   ]
  },
  {
   "cell_type": "markdown",
   "id": "feb104c3",
   "metadata": {},
   "source": [
    "**Task5**"
   ]
  },
  {
   "cell_type": "code",
   "execution_count": 81,
   "id": "6aff893d",
   "metadata": {},
   "outputs": [
    {
     "name": "stdout",
     "output_type": "stream",
     "text": [
      "name: Brightside, country: USA, City: Baton Rouge, Address: 1443 Brightside Dr\n"
     ]
    }
   ],
   "source": [
    "dictionary = {\n",
    "    \"name\": \"Brightside\",\n",
    "    \"country\": \"USA\",\n",
    "    \"City\": \"Baton Rouge\",\n",
    "    \"Address\": \"1443 Brightside Dr\"\n",
    "}\n",
    "\n",
    "print(f'name: {dictionary[\"name\"]}, country: {dictionary[\"country\"]}, City: {dictionary[\"City\"]}, Address: {dictionary[\"Address\"]}')"
   ]
  },
  {
   "cell_type": "markdown",
   "id": "29",
   "metadata": {},
   "source": [
    "## Summary\n",
    "\n",
    "String operations are crucial in geospatial programming, especially when dealing with textual geographic data. Mastering these operations will enable you to handle and manipulate geographic information effectively in your projects, whether you're formatting outputs, parsing inputs, or integrating with geospatial databases."
   ]
  }
 ],
 "metadata": {
  "kernelspec": {
   "display_name": "Python 3",
   "language": "python",
   "name": "python3"
  },
  "language_info": {
   "codemirror_mode": {
    "name": "ipython",
    "version": 3
   },
   "file_extension": ".py",
   "mimetype": "text/x-python",
   "name": "python",
   "nbconvert_exporter": "python",
   "pygments_lexer": "ipython3",
   "version": "3.10.14"
  }
 },
 "nbformat": 4,
 "nbformat_minor": 5
}
